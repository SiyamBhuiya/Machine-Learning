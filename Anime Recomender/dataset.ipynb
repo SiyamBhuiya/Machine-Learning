{
 "cells": [
  {
   "cell_type": "code",
   "execution_count": 2,
   "metadata": {},
   "outputs": [],
   "source": [
    "import numpy as np\n",
    "import pandas as pd\n",
    "import re"
   ]
  },
  {
   "cell_type": "code",
   "execution_count": 3,
   "metadata": {},
   "outputs": [],
   "source": [
    "df1=pd.read_csv('anime.csv')\n",
    "ratings=pd.read_csv('rating.csv')"
   ]
  },
  {
   "cell_type": "code",
   "execution_count": 4,
   "metadata": {},
   "outputs": [
    {
     "name": "stdout",
     "output_type": "stream",
     "text": [
      "    anime_id       name                                              genre  \\\n",
      "74        21  One Piece  Action, Adventure, Comedy, Drama, Fantasy, Sho...   \n",
      "\n",
      "   type episodes  rating  members  \n",
      "74   TV  Unknown    8.58   504862  \n"
     ]
    }
   ],
   "source": [
    "\n",
    "result = df1.loc[df1['anime_id'] == 21]\n",
    "print(result)\n"
   ]
  },
  {
   "cell_type": "code",
   "execution_count": 5,
   "metadata": {},
   "outputs": [],
   "source": [
    "df = pd.merge(df1,ratings[['anime_id','user_id']],on='anime_id')"
   ]
  },
  {
   "cell_type": "code",
   "execution_count": 6,
   "metadata": {},
   "outputs": [
    {
     "name": "stdout",
     "output_type": "stream",
     "text": [
      "Empty DataFrame\n",
      "Columns: [anime_id, name, genre, type, episodes, rating, members, user_id]\n",
      "Index: []\n"
     ]
    }
   ],
   "source": [
    "result = df.loc[df['anime_id'] ==0]\n",
    "print(result)"
   ]
  },
  {
   "cell_type": "code",
   "execution_count": 7,
   "metadata": {},
   "outputs": [],
   "source": [
    "def remove_extra_chars_regex(text):\n",
    "  \"\"\"Removes non-English letters from a string using regular expressions.\"\"\"\n",
    "  return re.sub(r\"[^\\w:]\", \" \", text) # Preserves hyphens for names like \"Jean-Claude\"\n",
    "\n",
    "df['names'] = df['name'].apply(remove_extra_chars_regex)"
   ]
  },
  {
   "cell_type": "code",
   "execution_count": 8,
   "metadata": {},
   "outputs": [],
   "source": [
    "del df['name']"
   ]
  },
  {
   "cell_type": "code",
   "execution_count": 9,
   "metadata": {},
   "outputs": [
    {
     "data": {
      "text/plain": [
       "False"
      ]
     },
     "execution_count": 9,
     "metadata": {},
     "output_type": "execute_result"
    }
   ],
   "source": [
    "'One Piece' in df.index\n"
   ]
  },
  {
   "cell_type": "code",
   "execution_count": 10,
   "metadata": {},
   "outputs": [],
   "source": [
    "df['rating'] = pd.to_numeric(df['rating'], errors='coerce')"
   ]
  },
  {
   "cell_type": "code",
   "execution_count": 11,
   "metadata": {},
   "outputs": [
    {
     "data": {
      "text/html": [
       "<div>\n",
       "<style scoped>\n",
       "    .dataframe tbody tr th:only-of-type {\n",
       "        vertical-align: middle;\n",
       "    }\n",
       "\n",
       "    .dataframe tbody tr th {\n",
       "        vertical-align: top;\n",
       "    }\n",
       "\n",
       "    .dataframe thead th {\n",
       "        text-align: right;\n",
       "    }\n",
       "</style>\n",
       "<table border=\"1\" class=\"dataframe\">\n",
       "  <thead>\n",
       "    <tr style=\"text-align: right;\">\n",
       "      <th></th>\n",
       "      <th>names</th>\n",
       "      <th>num_ratings</th>\n",
       "    </tr>\n",
       "  </thead>\n",
       "  <tbody>\n",
       "    <tr>\n",
       "      <th>0</th>\n",
       "      <td></td>\n",
       "      <td>6</td>\n",
       "    </tr>\n",
       "    <tr>\n",
       "      <th>1</th>\n",
       "      <td>hack  G U  Returner</td>\n",
       "      <td>730</td>\n",
       "    </tr>\n",
       "    <tr>\n",
       "      <th>2</th>\n",
       "      <td>hack  G U  Trilogy</td>\n",
       "      <td>1118</td>\n",
       "    </tr>\n",
       "    <tr>\n",
       "      <th>3</th>\n",
       "      <td>hack  G U  Trilogy: Parody Mode</td>\n",
       "      <td>353</td>\n",
       "    </tr>\n",
       "    <tr>\n",
       "      <th>4</th>\n",
       "      <td>hack  Gift</td>\n",
       "      <td>860</td>\n",
       "    </tr>\n",
       "  </tbody>\n",
       "</table>\n",
       "</div>"
      ],
      "text/plain": [
       "                              names  num_ratings\n",
       "0                                              6\n",
       "1               hack  G U  Returner          730\n",
       "2                hack  G U  Trilogy         1118\n",
       "3   hack  G U  Trilogy: Parody Mode          353\n",
       "4                        hack  Gift          860"
      ]
     },
     "execution_count": 11,
     "metadata": {},
     "output_type": "execute_result"
    }
   ],
   "source": [
    "num_rating=df.groupby('names').count()['rating'].reset_index()\n",
    "num_rating.rename(columns={'rating':'num_ratings'},inplace=True)\n",
    "num_rating.head()"
   ]
  },
  {
   "cell_type": "code",
   "execution_count": 12,
   "metadata": {},
   "outputs": [
    {
     "data": {
      "text/html": [
       "<div>\n",
       "<style scoped>\n",
       "    .dataframe tbody tr th:only-of-type {\n",
       "        vertical-align: middle;\n",
       "    }\n",
       "\n",
       "    .dataframe tbody tr th {\n",
       "        vertical-align: top;\n",
       "    }\n",
       "\n",
       "    .dataframe thead th {\n",
       "        text-align: right;\n",
       "    }\n",
       "</style>\n",
       "<table border=\"1\" class=\"dataframe\">\n",
       "  <thead>\n",
       "    <tr style=\"text-align: right;\">\n",
       "      <th></th>\n",
       "      <th>names</th>\n",
       "      <th>avg_ratings</th>\n",
       "    </tr>\n",
       "  </thead>\n",
       "  <tbody>\n",
       "    <tr>\n",
       "      <th>0</th>\n",
       "      <td></td>\n",
       "      <td>4.22</td>\n",
       "    </tr>\n",
       "    <tr>\n",
       "      <th>1</th>\n",
       "      <td>hack  G U  Returner</td>\n",
       "      <td>6.91</td>\n",
       "    </tr>\n",
       "    <tr>\n",
       "      <th>2</th>\n",
       "      <td>hack  G U  Trilogy</td>\n",
       "      <td>7.32</td>\n",
       "    </tr>\n",
       "    <tr>\n",
       "      <th>3</th>\n",
       "      <td>hack  G U  Trilogy: Parody Mode</td>\n",
       "      <td>6.67</td>\n",
       "    </tr>\n",
       "    <tr>\n",
       "      <th>4</th>\n",
       "      <td>hack  Gift</td>\n",
       "      <td>6.37</td>\n",
       "    </tr>\n",
       "  </tbody>\n",
       "</table>\n",
       "</div>"
      ],
      "text/plain": [
       "                              names  avg_ratings\n",
       "0                                           4.22\n",
       "1               hack  G U  Returner         6.91\n",
       "2                hack  G U  Trilogy         7.32\n",
       "3   hack  G U  Trilogy: Parody Mode         6.67\n",
       "4                        hack  Gift         6.37"
      ]
     },
     "execution_count": 12,
     "metadata": {},
     "output_type": "execute_result"
    }
   ],
   "source": [
    "avg_rating=df.groupby('names')['rating'].mean().reset_index()\n",
    "avg_rating.rename(columns={'rating':'avg_ratings'},inplace=True)\n",
    "avg_rating.head()"
   ]
  },
  {
   "cell_type": "code",
   "execution_count": 13,
   "metadata": {},
   "outputs": [
    {
     "data": {
      "text/html": [
       "<div>\n",
       "<style scoped>\n",
       "    .dataframe tbody tr th:only-of-type {\n",
       "        vertical-align: middle;\n",
       "    }\n",
       "\n",
       "    .dataframe tbody tr th {\n",
       "        vertical-align: top;\n",
       "    }\n",
       "\n",
       "    .dataframe thead th {\n",
       "        text-align: right;\n",
       "    }\n",
       "</style>\n",
       "<table border=\"1\" class=\"dataframe\">\n",
       "  <thead>\n",
       "    <tr style=\"text-align: right;\">\n",
       "      <th></th>\n",
       "      <th>names</th>\n",
       "      <th>num_ratings</th>\n",
       "      <th>avg_ratings</th>\n",
       "    </tr>\n",
       "  </thead>\n",
       "  <tbody>\n",
       "    <tr>\n",
       "      <th>0</th>\n",
       "      <td></td>\n",
       "      <td>6</td>\n",
       "      <td>4.22</td>\n",
       "    </tr>\n",
       "    <tr>\n",
       "      <th>1</th>\n",
       "      <td>hack  G U  Returner</td>\n",
       "      <td>730</td>\n",
       "      <td>6.91</td>\n",
       "    </tr>\n",
       "    <tr>\n",
       "      <th>2</th>\n",
       "      <td>hack  G U  Trilogy</td>\n",
       "      <td>1118</td>\n",
       "      <td>7.32</td>\n",
       "    </tr>\n",
       "    <tr>\n",
       "      <th>3</th>\n",
       "      <td>hack  G U  Trilogy: Parody Mode</td>\n",
       "      <td>353</td>\n",
       "      <td>6.67</td>\n",
       "    </tr>\n",
       "    <tr>\n",
       "      <th>4</th>\n",
       "      <td>hack  Gift</td>\n",
       "      <td>860</td>\n",
       "      <td>6.37</td>\n",
       "    </tr>\n",
       "  </tbody>\n",
       "</table>\n",
       "</div>"
      ],
      "text/plain": [
       "                              names  num_ratings  avg_ratings\n",
       "0                                              6         4.22\n",
       "1               hack  G U  Returner          730         6.91\n",
       "2                hack  G U  Trilogy         1118         7.32\n",
       "3   hack  G U  Trilogy: Parody Mode          353         6.67\n",
       "4                        hack  Gift          860         6.37"
      ]
     },
     "execution_count": 13,
     "metadata": {},
     "output_type": "execute_result"
    }
   ],
   "source": [
    "popular_anime = pd.merge(num_rating, avg_rating, on='names')\n",
    "popular_anime.head()"
   ]
  },
  {
   "cell_type": "code",
   "execution_count": 14,
   "metadata": {},
   "outputs": [
    {
     "data": {
      "text/html": [
       "<div>\n",
       "<style scoped>\n",
       "    .dataframe tbody tr th:only-of-type {\n",
       "        vertical-align: middle;\n",
       "    }\n",
       "\n",
       "    .dataframe tbody tr th {\n",
       "        vertical-align: top;\n",
       "    }\n",
       "\n",
       "    .dataframe thead th {\n",
       "        text-align: right;\n",
       "    }\n",
       "</style>\n",
       "<table border=\"1\" class=\"dataframe\">\n",
       "  <thead>\n",
       "    <tr style=\"text-align: right;\">\n",
       "      <th></th>\n",
       "      <th>names</th>\n",
       "      <th>num_ratings</th>\n",
       "      <th>avg_ratings</th>\n",
       "    </tr>\n",
       "  </thead>\n",
       "  <tbody>\n",
       "    <tr>\n",
       "      <th>4949</th>\n",
       "      <td>Kimi no Na wa</td>\n",
       "      <td>2199</td>\n",
       "      <td>9.37</td>\n",
       "    </tr>\n",
       "    <tr>\n",
       "      <th>2599</th>\n",
       "      <td>Fullmetal Alchemist: Brotherhood</td>\n",
       "      <td>24574</td>\n",
       "      <td>9.26</td>\n",
       "    </tr>\n",
       "    <tr>\n",
       "      <th>3046</th>\n",
       "      <td>Gintama</td>\n",
       "      <td>1386</td>\n",
       "      <td>9.25</td>\n",
       "    </tr>\n",
       "    <tr>\n",
       "      <th>9354</th>\n",
       "      <td>Steins Gate</td>\n",
       "      <td>19283</td>\n",
       "      <td>9.17</td>\n",
       "    </tr>\n",
       "    <tr>\n",
       "      <th>3047</th>\n",
       "      <td>Gintama  039</td>\n",
       "      <td>3673</td>\n",
       "      <td>9.16</td>\n",
       "    </tr>\n",
       "    <tr>\n",
       "      <th>...</th>\n",
       "      <td>...</td>\n",
       "      <td>...</td>\n",
       "      <td>...</td>\n",
       "    </tr>\n",
       "    <tr>\n",
       "      <th>7965</th>\n",
       "      <td>Pupa</td>\n",
       "      <td>2677</td>\n",
       "      <td>3.82</td>\n",
       "    </tr>\n",
       "    <tr>\n",
       "      <th>10519</th>\n",
       "      <td>Vampire Holmes</td>\n",
       "      <td>162</td>\n",
       "      <td>3.63</td>\n",
       "    </tr>\n",
       "    <tr>\n",
       "      <th>8957</th>\n",
       "      <td>Shitcom</td>\n",
       "      <td>231</td>\n",
       "      <td>2.93</td>\n",
       "    </tr>\n",
       "    <tr>\n",
       "      <th>3372</th>\n",
       "      <td>Hametsu no Mars</td>\n",
       "      <td>1131</td>\n",
       "      <td>2.37</td>\n",
       "    </tr>\n",
       "    <tr>\n",
       "      <th>9770</th>\n",
       "      <td>Tenkuu Danzai Skelter Heaven</td>\n",
       "      <td>237</td>\n",
       "      <td>2.00</td>\n",
       "    </tr>\n",
       "  </tbody>\n",
       "</table>\n",
       "<p>4589 rows × 3 columns</p>\n",
       "</div>"
      ],
      "text/plain": [
       "                                  names  num_ratings  avg_ratings\n",
       "4949                     Kimi no Na wa          2199         9.37\n",
       "2599   Fullmetal Alchemist: Brotherhood        24574         9.26\n",
       "3046                           Gintama          1386         9.25\n",
       "9354                        Steins Gate        19283         9.17\n",
       "3047                      Gintama  039          3673         9.16\n",
       "...                                 ...          ...          ...\n",
       "7965                               Pupa         2677         3.82\n",
       "10519                    Vampire Holmes          162         3.63\n",
       "8957                            Shitcom          231         2.93\n",
       "3372                    Hametsu no Mars         1131         2.37\n",
       "9770       Tenkuu Danzai Skelter Heaven          237         2.00\n",
       "\n",
       "[4589 rows x 3 columns]"
      ]
     },
     "execution_count": 14,
     "metadata": {},
     "output_type": "execute_result"
    }
   ],
   "source": [
    "popular_anime[popular_anime['num_ratings']>=100].sort_values('avg_ratings',ascending=False)"
   ]
  },
  {
   "cell_type": "code",
   "execution_count": 15,
   "metadata": {},
   "outputs": [],
   "source": [
    "popular_anime=popular_anime.merge(df,on='names').drop_duplicates('names')[['names','genre','type','episodes','num_ratings','avg_ratings']]"
   ]
  },
  {
   "cell_type": "code",
   "execution_count": 16,
   "metadata": {},
   "outputs": [
    {
     "data": {
      "text/html": [
       "<div>\n",
       "<style scoped>\n",
       "    .dataframe tbody tr th:only-of-type {\n",
       "        vertical-align: middle;\n",
       "    }\n",
       "\n",
       "    .dataframe tbody tr th {\n",
       "        vertical-align: top;\n",
       "    }\n",
       "\n",
       "    .dataframe thead th {\n",
       "        text-align: right;\n",
       "    }\n",
       "</style>\n",
       "<table border=\"1\" class=\"dataframe\">\n",
       "  <thead>\n",
       "    <tr style=\"text-align: right;\">\n",
       "      <th></th>\n",
       "      <th>names</th>\n",
       "      <th>genre</th>\n",
       "      <th>type</th>\n",
       "      <th>episodes</th>\n",
       "      <th>num_ratings</th>\n",
       "      <th>avg_ratings</th>\n",
       "    </tr>\n",
       "  </thead>\n",
       "  <tbody>\n",
       "    <tr>\n",
       "      <th>0</th>\n",
       "      <td></td>\n",
       "      <td>Dementia, Music</td>\n",
       "      <td>ONA</td>\n",
       "      <td>1</td>\n",
       "      <td>6</td>\n",
       "      <td>4.22</td>\n",
       "    </tr>\n",
       "    <tr>\n",
       "      <th>6</th>\n",
       "      <td>hack  G U  Returner</td>\n",
       "      <td>Adventure, Drama, Fantasy, Game, Magic, Sci-Fi</td>\n",
       "      <td>OVA</td>\n",
       "      <td>1</td>\n",
       "      <td>730</td>\n",
       "      <td>6.91</td>\n",
       "    </tr>\n",
       "    <tr>\n",
       "      <th>736</th>\n",
       "      <td>hack  G U  Trilogy</td>\n",
       "      <td>Action, Fantasy, Game, Sci-Fi</td>\n",
       "      <td>Movie</td>\n",
       "      <td>1</td>\n",
       "      <td>1118</td>\n",
       "      <td>7.32</td>\n",
       "    </tr>\n",
       "    <tr>\n",
       "      <th>1854</th>\n",
       "      <td>hack  G U  Trilogy: Parody Mode</td>\n",
       "      <td>Comedy, Fantasy, Game, Parody, Sci-Fi</td>\n",
       "      <td>Special</td>\n",
       "      <td>1</td>\n",
       "      <td>353</td>\n",
       "      <td>6.67</td>\n",
       "    </tr>\n",
       "    <tr>\n",
       "      <th>2207</th>\n",
       "      <td>hack  Gift</td>\n",
       "      <td>Comedy, Fantasy, Game</td>\n",
       "      <td>OVA</td>\n",
       "      <td>1</td>\n",
       "      <td>860</td>\n",
       "      <td>6.37</td>\n",
       "    </tr>\n",
       "  </tbody>\n",
       "</table>\n",
       "</div>"
      ],
      "text/plain": [
       "                                 names  \\\n",
       "0                                        \n",
       "6                  hack  G U  Returner   \n",
       "736                 hack  G U  Trilogy   \n",
       "1854   hack  G U  Trilogy: Parody Mode   \n",
       "2207                        hack  Gift   \n",
       "\n",
       "                                               genre     type episodes  \\\n",
       "0                                    Dementia, Music      ONA        1   \n",
       "6     Adventure, Drama, Fantasy, Game, Magic, Sci-Fi      OVA        1   \n",
       "736                    Action, Fantasy, Game, Sci-Fi    Movie        1   \n",
       "1854           Comedy, Fantasy, Game, Parody, Sci-Fi  Special        1   \n",
       "2207                           Comedy, Fantasy, Game      OVA        1   \n",
       "\n",
       "      num_ratings  avg_ratings  \n",
       "0               6         4.22  \n",
       "6             730         6.91  \n",
       "736          1118         7.32  \n",
       "1854          353         6.67  \n",
       "2207          860         6.37  "
      ]
     },
     "execution_count": 16,
     "metadata": {},
     "output_type": "execute_result"
    }
   ],
   "source": [
    "popular_anime.head()"
   ]
  },
  {
   "cell_type": "code",
   "execution_count": 17,
   "metadata": {},
   "outputs": [],
   "source": [
    "x=df.groupby('user_id').count()['rating']>100\n",
    "weeb=x[x].index"
   ]
  },
  {
   "cell_type": "code",
   "execution_count": 18,
   "metadata": {},
   "outputs": [],
   "source": [
    "ani=df[df['user_id'].isin(weeb)]"
   ]
  },
  {
   "cell_type": "code",
   "execution_count": 19,
   "metadata": {},
   "outputs": [],
   "source": [
    "y=ani.groupby('names').count()['rating']>=50\n",
    "famous_anime=y[y].index"
   ]
  },
  {
   "cell_type": "code",
   "execution_count": 20,
   "metadata": {},
   "outputs": [],
   "source": [
    "final_ratings=ani[ani['names'].isin(famous_anime)]"
   ]
  },
  {
   "cell_type": "code",
   "execution_count": 21,
   "metadata": {},
   "outputs": [
    {
     "data": {
      "text/html": [
       "<div>\n",
       "<style scoped>\n",
       "    .dataframe tbody tr th:only-of-type {\n",
       "        vertical-align: middle;\n",
       "    }\n",
       "\n",
       "    .dataframe tbody tr th {\n",
       "        vertical-align: top;\n",
       "    }\n",
       "\n",
       "    .dataframe thead th {\n",
       "        text-align: right;\n",
       "    }\n",
       "</style>\n",
       "<table border=\"1\" class=\"dataframe\">\n",
       "  <thead>\n",
       "    <tr style=\"text-align: right;\">\n",
       "      <th></th>\n",
       "      <th>anime_id</th>\n",
       "      <th>genre</th>\n",
       "      <th>type</th>\n",
       "      <th>episodes</th>\n",
       "      <th>rating</th>\n",
       "      <th>members</th>\n",
       "      <th>user_id</th>\n",
       "      <th>names</th>\n",
       "    </tr>\n",
       "  </thead>\n",
       "  <tbody>\n",
       "    <tr>\n",
       "      <th>0</th>\n",
       "      <td>32281</td>\n",
       "      <td>Drama, Romance, School, Supernatural</td>\n",
       "      <td>Movie</td>\n",
       "      <td>1</td>\n",
       "      <td>9.37</td>\n",
       "      <td>200630</td>\n",
       "      <td>99</td>\n",
       "      <td>Kimi no Na wa</td>\n",
       "    </tr>\n",
       "    <tr>\n",
       "      <th>1</th>\n",
       "      <td>32281</td>\n",
       "      <td>Drama, Romance, School, Supernatural</td>\n",
       "      <td>Movie</td>\n",
       "      <td>1</td>\n",
       "      <td>9.37</td>\n",
       "      <td>200630</td>\n",
       "      <td>152</td>\n",
       "      <td>Kimi no Na wa</td>\n",
       "    </tr>\n",
       "    <tr>\n",
       "      <th>2</th>\n",
       "      <td>32281</td>\n",
       "      <td>Drama, Romance, School, Supernatural</td>\n",
       "      <td>Movie</td>\n",
       "      <td>1</td>\n",
       "      <td>9.37</td>\n",
       "      <td>200630</td>\n",
       "      <td>244</td>\n",
       "      <td>Kimi no Na wa</td>\n",
       "    </tr>\n",
       "    <tr>\n",
       "      <th>3</th>\n",
       "      <td>32281</td>\n",
       "      <td>Drama, Romance, School, Supernatural</td>\n",
       "      <td>Movie</td>\n",
       "      <td>1</td>\n",
       "      <td>9.37</td>\n",
       "      <td>200630</td>\n",
       "      <td>271</td>\n",
       "      <td>Kimi no Na wa</td>\n",
       "    </tr>\n",
       "    <tr>\n",
       "      <th>6</th>\n",
       "      <td>32281</td>\n",
       "      <td>Drama, Romance, School, Supernatural</td>\n",
       "      <td>Movie</td>\n",
       "      <td>1</td>\n",
       "      <td>9.37</td>\n",
       "      <td>200630</td>\n",
       "      <td>398</td>\n",
       "      <td>Kimi no Na wa</td>\n",
       "    </tr>\n",
       "    <tr>\n",
       "      <th>...</th>\n",
       "      <td>...</td>\n",
       "      <td>...</td>\n",
       "      <td>...</td>\n",
       "      <td>...</td>\n",
       "      <td>...</td>\n",
       "      <td>...</td>\n",
       "      <td>...</td>\n",
       "      <td>...</td>\n",
       "    </tr>\n",
       "    <tr>\n",
       "      <th>7813155</th>\n",
       "      <td>1639</td>\n",
       "      <td>Hentai, Yaoi</td>\n",
       "      <td>OVA</td>\n",
       "      <td>1</td>\n",
       "      <td>5.13</td>\n",
       "      <td>57355</td>\n",
       "      <td>73328</td>\n",
       "      <td>Boku no Pico</td>\n",
       "    </tr>\n",
       "    <tr>\n",
       "      <th>7813156</th>\n",
       "      <td>1639</td>\n",
       "      <td>Hentai, Yaoi</td>\n",
       "      <td>OVA</td>\n",
       "      <td>1</td>\n",
       "      <td>5.13</td>\n",
       "      <td>57355</td>\n",
       "      <td>73329</td>\n",
       "      <td>Boku no Pico</td>\n",
       "    </tr>\n",
       "    <tr>\n",
       "      <th>7813158</th>\n",
       "      <td>1639</td>\n",
       "      <td>Hentai, Yaoi</td>\n",
       "      <td>OVA</td>\n",
       "      <td>1</td>\n",
       "      <td>5.13</td>\n",
       "      <td>57355</td>\n",
       "      <td>73350</td>\n",
       "      <td>Boku no Pico</td>\n",
       "    </tr>\n",
       "    <tr>\n",
       "      <th>7813159</th>\n",
       "      <td>1639</td>\n",
       "      <td>Hentai, Yaoi</td>\n",
       "      <td>OVA</td>\n",
       "      <td>1</td>\n",
       "      <td>5.13</td>\n",
       "      <td>57355</td>\n",
       "      <td>73389</td>\n",
       "      <td>Boku no Pico</td>\n",
       "    </tr>\n",
       "    <tr>\n",
       "      <th>7813161</th>\n",
       "      <td>1639</td>\n",
       "      <td>Hentai, Yaoi</td>\n",
       "      <td>OVA</td>\n",
       "      <td>1</td>\n",
       "      <td>5.13</td>\n",
       "      <td>57355</td>\n",
       "      <td>73462</td>\n",
       "      <td>Boku no Pico</td>\n",
       "    </tr>\n",
       "  </tbody>\n",
       "</table>\n",
       "<p>6029990 rows × 8 columns</p>\n",
       "</div>"
      ],
      "text/plain": [
       "         anime_id                                 genre   type episodes  \\\n",
       "0           32281  Drama, Romance, School, Supernatural  Movie        1   \n",
       "1           32281  Drama, Romance, School, Supernatural  Movie        1   \n",
       "2           32281  Drama, Romance, School, Supernatural  Movie        1   \n",
       "3           32281  Drama, Romance, School, Supernatural  Movie        1   \n",
       "6           32281  Drama, Romance, School, Supernatural  Movie        1   \n",
       "...           ...                                   ...    ...      ...   \n",
       "7813155      1639                          Hentai, Yaoi    OVA        1   \n",
       "7813156      1639                          Hentai, Yaoi    OVA        1   \n",
       "7813158      1639                          Hentai, Yaoi    OVA        1   \n",
       "7813159      1639                          Hentai, Yaoi    OVA        1   \n",
       "7813161      1639                          Hentai, Yaoi    OVA        1   \n",
       "\n",
       "         rating  members  user_id           names  \n",
       "0          9.37   200630       99  Kimi no Na wa   \n",
       "1          9.37   200630      152  Kimi no Na wa   \n",
       "2          9.37   200630      244  Kimi no Na wa   \n",
       "3          9.37   200630      271  Kimi no Na wa   \n",
       "6          9.37   200630      398  Kimi no Na wa   \n",
       "...         ...      ...      ...             ...  \n",
       "7813155    5.13    57355    73328    Boku no Pico  \n",
       "7813156    5.13    57355    73329    Boku no Pico  \n",
       "7813158    5.13    57355    73350    Boku no Pico  \n",
       "7813159    5.13    57355    73389    Boku no Pico  \n",
       "7813161    5.13    57355    73462    Boku no Pico  \n",
       "\n",
       "[6029990 rows x 8 columns]"
      ]
     },
     "execution_count": 21,
     "metadata": {},
     "output_type": "execute_result"
    }
   ],
   "source": [
    "final_ratings"
   ]
  },
  {
   "cell_type": "code",
   "execution_count": 22,
   "metadata": {},
   "outputs": [],
   "source": [
    "pt=final_ratings.pivot_table(index='names',columns='user_id',values='rating')"
   ]
  },
  {
   "cell_type": "code",
   "execution_count": 23,
   "metadata": {},
   "outputs": [],
   "source": [
    "pt.fillna(0,inplace=True)"
   ]
  },
  {
   "cell_type": "code",
   "execution_count": 24,
   "metadata": {},
   "outputs": [
    {
     "data": {
      "text/plain": [
       "False"
      ]
     },
     "execution_count": 24,
     "metadata": {},
     "output_type": "execute_result"
    }
   ],
   "source": [
    "'One Piece' in pt.index\n"
   ]
  },
  {
   "cell_type": "code",
   "execution_count": 25,
   "metadata": {},
   "outputs": [],
   "source": [
    "from sklearn.metrics.pairwise import cosine_similarity"
   ]
  },
  {
   "cell_type": "code",
   "execution_count": 26,
   "metadata": {},
   "outputs": [],
   "source": [
    "similarity_scores=cosine_similarity(pt)"
   ]
  },
  {
   "cell_type": "code",
   "execution_count": 27,
   "metadata": {},
   "outputs": [
    {
     "data": {
      "text/plain": [
       "(5531, 5531)"
      ]
     },
     "execution_count": 27,
     "metadata": {},
     "output_type": "execute_result"
    }
   ],
   "source": [
    "similarity_scores.shape"
   ]
  },
  {
   "cell_type": "code",
   "execution_count": 28,
   "metadata": {},
   "outputs": [],
   "source": [
    "def recommend(anime_name):\n",
    "    if anime_name in pt.index:\n",
    "        index = np.where(pt.index == anime_name)[0][0]\n",
    "        similar_items = sorted(list(enumerate(similarity_scores[index])), key=lambda x: x[1], reverse=True)[1:6]\n",
    "        for i in similar_items:\n",
    "            print(pt.index[i[0]])\n",
    "    else:\n",
    "        print(\"Anime not found in the dataset.\")\n"
   ]
  },
  {
   "cell_type": "code",
   "execution_count": 29,
   "metadata": {},
   "outputs": [
    {
     "name": "stdout",
     "output_type": "stream",
     "text": [
      "Code Geass: Hangyaku no Lelouch\n",
      "Code Geass: Hangyaku no Lelouch R2\n",
      "Elfen Lied\n",
      "Shingeki no Kyojin\n",
      "Fullmetal Alchemist: Brotherhood\n"
     ]
    }
   ],
   "source": [
    "recommend('Death Note')"
   ]
  }
 ],
 "metadata": {
  "kernelspec": {
   "display_name": "base",
   "language": "python",
   "name": "python3"
  },
  "language_info": {
   "codemirror_mode": {
    "name": "ipython",
    "version": 3
   },
   "file_extension": ".py",
   "mimetype": "text/x-python",
   "name": "python",
   "nbconvert_exporter": "python",
   "pygments_lexer": "ipython3",
   "version": "3.11.5"
  }
 },
 "nbformat": 4,
 "nbformat_minor": 2
}
